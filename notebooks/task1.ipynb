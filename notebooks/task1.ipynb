{
 "cells": [
  {
   "cell_type": "code",
   "execution_count": 1,
   "outputs": [
    {
     "name": "stderr",
     "output_type": "stream",
     "text": [
      "[nltk_data] Downloading package stopwords to\n",
      "[nltk_data]     C:\\Users\\Helen\\AppData\\Roaming\\nltk_data...\n",
      "[nltk_data]   Package stopwords is already up-to-date!\n"
     ]
    }
   ],
   "source": [
    "import numpy as np\n",
    "import pandas as pd\n",
    "import os\n",
    "from nltk.stem.snowball import SnowballStemmer\n",
    "\n",
    "import re\n",
    "from sklearn.metrics import *\n",
    "from sklearn.feature_extraction.text import *\n",
    "from sklearn.model_selection import train_test_split\n",
    "from collections import Counter, defaultdict\n",
    "import matplotlib.pyplot as plt\n",
    "import seaborn as sns\n",
    "import warnings\n",
    "import transformers\n",
    "import nltk\n",
    "\n",
    "nltk.download(\"stopwords\")\n",
    "\n",
    "\n",
    "\n",
    "%matplotlib inline\n",
    "warnings.filterwarnings(\"ignore\")"
   ],
   "metadata": {
    "collapsed": false,
    "pycharm": {
     "name": "#%%\n"
    }
   }
  },
  {
   "cell_type": "code",
   "execution_count": 2,
   "outputs": [],
   "source": [
    "stemmer = SnowballStemmer(language='english')\n",
    "regex = re.compile(\"[A-Za-z]+\")\n",
    "from nltk.corpus import stopwords\n",
    "from nltk.tokenize import word_tokenize\n",
    "\n",
    "stopwords=nltk.corpus.stopwords.words(\"english\")\n",
    "additional_words=[\"us\", \"always\", \"said\", \"then\", \"also\", \"usually\", \"would\", \"new\", \"last\", \"could\", \"year\", \"mr\", \"mrs\",\"told\", \"say\", \"however\", \"may\", \"one\", \"two\"]\n",
    "stopwords+=additional_words\n",
    "\n",
    "\n",
    "def words_only(text, regex=regex):\n",
    "    try:\n",
    "        return \" \".join(regex.findall(text))\n",
    "    except:\n",
    "        return \"\"\n",
    "\n",
    "\n",
    "def lemmatize(text, mystemmer=stemmer):\n",
    "    try:\n",
    "        tokens=[mystemmer.stem(token) for token in text.split()]\n",
    "        return \" \".join(tokens)\n",
    "    except:\n",
    "         return \"\"\n",
    "\n",
    "def tokenize(text, mystopwords=stopwords):\n",
    "    return [word for word in word_tokenize(text.lower()) if word not in mystopwords and len(word)>2]\n",
    "\n",
    "\n"
   ],
   "metadata": {
    "collapsed": false,
    "pycharm": {
     "name": "#%%\n"
    }
   }
  },
  {
   "cell_type": "code",
   "execution_count": 3,
   "outputs": [],
   "source": [
    "#чтение данных\n",
    "\n",
    "DATA_DIR =\"../data/bbc/\"\n",
    "\n",
    "def get_dataset(DATA_DIR):\n",
    "    data = []\n",
    "    for file in [os.path.join(path, name) for path, subdirectory, files in os.walk(DATA_DIR) for name in files]:\n",
    "        label = file.split(\"/\")[3].split(\"\\\\\")[0]\n",
    "        content = \" \".join(open(file, encoding='utf-8', errors='ignore').read().splitlines())\n",
    "        data.append((content, label))\n",
    "    return data\n"
   ],
   "metadata": {
    "collapsed": false,
    "pycharm": {
     "name": "#%%\n"
    }
   }
  },
  {
   "cell_type": "code",
   "execution_count": 4,
   "outputs": [],
   "source": [
    "data=get_dataset(DATA_DIR)"
   ],
   "metadata": {
    "collapsed": false,
    "pycharm": {
     "name": "#%%\n"
    }
   }
  },
  {
   "cell_type": "code",
   "execution_count": 5,
   "outputs": [],
   "source": [
    "data=pd.DataFrame(data, columns=['text', 'label'])"
   ],
   "metadata": {
    "collapsed": false,
    "pycharm": {
     "name": "#%%\n"
    }
   }
  },
  {
   "cell_type": "code",
   "execution_count": 6,
   "outputs": [
    {
     "data": {
      "text/plain": "                                                   text     label\n0     Ad sales boost Time Warner profit  Quarterly p...  business\n1     Dollar gains on Greenspan speech  The dollar h...  business\n2     Yukos unit buyer faces loan claim  The owners ...  business\n3     High fuel prices hit BA's profits  British Air...  business\n4     Pernod takeover talk lifts Domecq  Shares in U...  business\n...                                                 ...       ...\n2160  Can Yahoo dominate next decade?  Yahoo has rea...      tech\n2161  Looks and music to drive mobiles  Mobile phone...      tech\n2162  Hotspot users gain free net calls  People usin...      tech\n2163  Domain system opens door to scams  A system to...      tech\n2164  Sony PSP tipped as a 'must-have'  Sony's Plays...      tech\n\n[2165 rows x 2 columns]",
      "text/html": "<div>\n<style scoped>\n    .dataframe tbody tr th:only-of-type {\n        vertical-align: middle;\n    }\n\n    .dataframe tbody tr th {\n        vertical-align: top;\n    }\n\n    .dataframe thead th {\n        text-align: right;\n    }\n</style>\n<table border=\"1\" class=\"dataframe\">\n  <thead>\n    <tr style=\"text-align: right;\">\n      <th></th>\n      <th>text</th>\n      <th>label</th>\n    </tr>\n  </thead>\n  <tbody>\n    <tr>\n      <th>0</th>\n      <td>Ad sales boost Time Warner profit  Quarterly p...</td>\n      <td>business</td>\n    </tr>\n    <tr>\n      <th>1</th>\n      <td>Dollar gains on Greenspan speech  The dollar h...</td>\n      <td>business</td>\n    </tr>\n    <tr>\n      <th>2</th>\n      <td>Yukos unit buyer faces loan claim  The owners ...</td>\n      <td>business</td>\n    </tr>\n    <tr>\n      <th>3</th>\n      <td>High fuel prices hit BA's profits  British Air...</td>\n      <td>business</td>\n    </tr>\n    <tr>\n      <th>4</th>\n      <td>Pernod takeover talk lifts Domecq  Shares in U...</td>\n      <td>business</td>\n    </tr>\n    <tr>\n      <th>...</th>\n      <td>...</td>\n      <td>...</td>\n    </tr>\n    <tr>\n      <th>2160</th>\n      <td>Can Yahoo dominate next decade?  Yahoo has rea...</td>\n      <td>tech</td>\n    </tr>\n    <tr>\n      <th>2161</th>\n      <td>Looks and music to drive mobiles  Mobile phone...</td>\n      <td>tech</td>\n    </tr>\n    <tr>\n      <th>2162</th>\n      <td>Hotspot users gain free net calls  People usin...</td>\n      <td>tech</td>\n    </tr>\n    <tr>\n      <th>2163</th>\n      <td>Domain system opens door to scams  A system to...</td>\n      <td>tech</td>\n    </tr>\n    <tr>\n      <th>2164</th>\n      <td>Sony PSP tipped as a 'must-have'  Sony's Plays...</td>\n      <td>tech</td>\n    </tr>\n  </tbody>\n</table>\n<p>2165 rows × 2 columns</p>\n</div>"
     },
     "execution_count": 6,
     "metadata": {},
     "output_type": "execute_result"
    }
   ],
   "source": [
    "data"
   ],
   "metadata": {
    "collapsed": false,
    "pycharm": {
     "name": "#%%\n"
    }
   }
  },
  {
   "cell_type": "code",
   "execution_count": 7,
   "outputs": [
    {
     "data": {
      "text/plain": "<Figure size 640x480 with 1 Axes>",
      "image/png": "[encoded data removed]"
     },
     "metadata": {},
     "output_type": "display_data"
    }
   ],
   "source": [
    "counts = data.label.value_counts()\n",
    "values = counts.tolist()\n",
    "labels = counts.index.tolist()\n",
    "\n",
    "y_pos = np.arange(len(labels))\n",
    "\n",
    "plt.bar(y_pos, values, align='center', alpha=0.5)\n",
    "plt.xticks(y_pos, labels)\n",
    "plt.show()"
   ],
   "metadata": {
    "collapsed": false,
    "pycharm": {
     "name": "#%%\n"
    }
   }
  },
  {
   "cell_type": "code",
   "execution_count": 8,
   "outputs": [],
   "source": [
    "data.text=data.text.apply(words_only)"
   ],
   "metadata": {
    "collapsed": false,
    "pycharm": {
     "name": "#%%\n"
    }
   }
  },
  {
   "cell_type": "code",
   "execution_count": 9,
   "outputs": [],
   "source": [
    "data.text=data.text.apply(lemmatize)"
   ],
   "metadata": {
    "collapsed": false,
    "pycharm": {
     "name": "#%%\n"
    }
   }
  },
  {
   "cell_type": "code",
   "execution_count": 10,
   "outputs": [],
   "source": [
    "data.text=data.text.apply(tokenize)"
   ],
   "metadata": {
    "collapsed": false,
    "pycharm": {
     "name": "#%%\n"
    }
   }
  },
  {
   "cell_type": "code",
   "execution_count": 21,
   "outputs": [
    {
     "data": {
      "text/plain": "0       [sale, boost, time, warner, profit, quarter, p...\n1       [dollar, gain, greenspan, speech, dollar, hit,...\n2       [yuko, unit, buyer, face, loan, claim, owner, ...\n3       [high, fuel, price, hit, profit, british, airw...\n4       [pernod, takeov, talk, lift, domecq, share, dr...\n                              ...                        \n2160    [yahoo, domin, next, decad, yahoo, reach, gran...\n2161    [look, music, drive, mobil, mobil, phone, stil...\n2162    [hotspot, user, gain, free, net, call, peopl, ...\n2163    [domain, system, open, door, scam, system, mak...\n2164    [soni, psp, tip, must, soni, playstat, portabl...\nName: text, Length: 2165, dtype: object"
     },
     "execution_count": 21,
     "metadata": {},
     "output_type": "execute_result"
    }
   ],
   "source": [
    "data.text"
   ],
   "metadata": {
    "collapsed": false,
    "pycharm": {
     "name": "#%%\n"
    }
   }
  },
  {
   "cell_type": "code",
   "execution_count": 22,
   "outputs": [],
   "source": [
    "from gensim.models import Word2Vec\n",
    "\n",
    "word_to_vec = Word2Vec(data.text, vector_size=100, window=5, min_count=5, workers=-1)"
   ],
   "metadata": {
    "collapsed": false,
    "pycharm": {
     "name": "#%%\n"
    }
   }
  },
  {
   "cell_type": "code",
   "execution_count": 23,
   "outputs": [],
   "source": [
    "w2v = dict(zip(word_to_vec.wv.index_to_key, word_to_vec.wv.vectors))"
   ],
   "metadata": {
    "collapsed": false,
    "pycharm": {
     "name": "#%%\n"
    }
   }
  },
  {
   "cell_type": "code",
   "execution_count": 24,
   "outputs": [],
   "source": [
    "class MeanEmbeddingVectorizer(object):\n",
    "    def __init__(self, word2vec):\n",
    "        self.word2vec = word2vec\n",
    "        self.dim = len(word2vec.popitem()[1])\n",
    "        # self.dim = len(word2vec.itervalues().next())\n",
    "\n",
    "    def fit(self, X, y):\n",
    "        return self\n",
    "\n",
    "    def transform(self, X):\n",
    "        return np.array([\n",
    "            np.mean([self.word2vec[w] for w in words if w in self.word2vec]\n",
    "                    or [np.zeros(self.dim)], axis=0)\n",
    "            for words in X\n",
    "        ])\n",
    "\n",
    "class TfidfEmbeddingVectorizer(object):\n",
    "    def __init__(self, word2vec):\n",
    "        self.word2vec = word2vec\n",
    "        self.word2weight = None\n",
    "        self.dim = len(word2vec.popitem()[1])\n",
    "        # self.dim = len(word2vec.itervalues().next())\n",
    "\n",
    "    def fit(self, X, y):\n",
    "        tfidf = TfidfVectorizer(analyzer=lambda x: x)\n",
    "        tfidf.fit(X)\n",
    "        max_idf = max(tfidf.idf_)\n",
    "        self.word2weight = defaultdict(\n",
    "            lambda: max_idf,\n",
    "            [(w, tfidf.idf_[i]) for w, i in tfidf.vocabulary_.items()])\n",
    "\n",
    "        return self\n",
    "\n",
    "    def transform(self, X):\n",
    "        return np.array([\n",
    "                np.mean([self.word2vec[w] * self.word2weight[w]\n",
    "                         for w in words if w in self.word2vec] or\n",
    "                        [np.zeros(self.dim)], axis=0)\n",
    "                for words in X\n",
    "            ])"
   ],
   "metadata": {
    "collapsed": false,
    "pycharm": {
     "name": "#%%\n"
    }
   }
  },
  {
   "cell_type": "code",
   "execution_count": 42,
   "outputs": [],
   "source": [
    "X = data.text.tolist()\n",
    "y = data.label.tolist()\n",
    "\n",
    "X, y = np.array(X), np.array(y)\n",
    "\n",
    "X_train, X_rem, y_train, y_rem = train_test_split(X,y, train_size=0.70, shuffle=True, stratify=y)\n",
    "\n",
    "#15% на тест и на валидацию\n",
    "X_valid, X_test, y_valid, y_test = train_test_split(X_rem,y_rem, test_size=0.5, shuffle=True, stratify=y_rem)"
   ],
   "metadata": {
    "collapsed": false,
    "pycharm": {
     "name": "#%%\n"
    }
   }
  },
  {
   "cell_type": "markdown",
   "source": [
    "# Классический алгоритм"
   ],
   "metadata": {
    "collapsed": false,
    "pycharm": {
     "name": "#%% md\n"
    }
   }
  },
  {
   "cell_type": "code",
   "execution_count": 68,
   "outputs": [
    {
     "name": "stdout",
     "output_type": "stream",
     "text": [
      "finished Gridsearch\n",
      "clf: RandomForestClassifier()\n",
      "vec: <__main__.MeanEmbeddingVectorizer object at 0x00000186E5531BB0>\n",
      "{'clf__n_estimators': 1000}\n",
      "0.7544554455445546\n",
      "finished Gridsearch\n",
      "clf: AdaBoostClassifier()\n",
      "vec: <__main__.MeanEmbeddingVectorizer object at 0x00000186E5531C10>\n",
      "{'clf__n_estimators': 1000}\n",
      "0.6772277227722773\n",
      "finished Gridsearch\n",
      "clf: RandomForestClassifier()\n",
      "vec: <__main__.TfidfEmbeddingVectorizer object at 0x00000186E5531460>\n",
      "{'clf__n_estimators': 1000}\n",
      "0.6877887788778878\n",
      "finished Gridsearch\n",
      "clf: AdaBoostClassifier()\n",
      "vec: <__main__.TfidfEmbeddingVectorizer object at 0x00000186E5531220>\n",
      "{'clf__n_estimators': 1000}\n",
      "0.6118811881188119\n"
     ]
    }
   ],
   "source": [
    "from sklearn.pipeline import Pipeline\n",
    "from sklearn.ensemble import RandomForestClassifier, AdaBoostClassifier\n",
    "from sklearn.model_selection import GridSearchCV\n",
    "\n",
    "pipeline1 = Pipeline((\n",
    "    ('vec', MeanEmbeddingVectorizer(w2v)),\n",
    "    ('clf', RandomForestClassifier()),\n",
    "    ))\n",
    "\n",
    "pipeline2 = Pipeline((\n",
    "    ('vec', MeanEmbeddingVectorizer(w2v)),\n",
    "    ('clf', AdaBoostClassifier()),\n",
    "    ))\n",
    "\n",
    "pipeline3 = Pipeline((\n",
    "     ('vec', TfidfEmbeddingVectorizer(w2v)),\n",
    "    ('clf', RandomForestClassifier()),\n",
    "    ))\n",
    "\n",
    "pipeline4 = Pipeline((\n",
    "     ('vec', TfidfEmbeddingVectorizer(w2v)),\n",
    "    ('clf', AdaBoostClassifier()),\n",
    "    ))\n",
    "\n",
    "pips=[pipeline1, pipeline2, pipeline3, pipeline4]\n",
    "\n",
    "\n",
    "\n",
    "parameters = {\n",
    "    'clf__n_estimators':[1,10,100,1000]\n",
    "  }\n",
    "\n",
    "\n",
    "for pipe in pips:\n",
    "    grid_pipeline = GridSearchCV(pipe ,parameters, cv=3, scoring=\"accuracy\")\n",
    "    grid_pipeline.fit(X_train,y_train)\n",
    "    print(\"finished Gridsearch\")\n",
    "    print(\"clf: {}\".format(pipe['clf']))\n",
    "    print(\"vec: {}\".format(pipe['vec']))\n",
    "    print(grid_pipeline.best_params_)\n",
    "    print(grid_pipeline.best_score_)\n",
    "\n"
   ],
   "metadata": {
    "collapsed": false,
    "pycharm": {
     "name": "#%%\n"
    }
   }
  },
  {
   "cell_type": "code",
   "execution_count": 70,
   "outputs": [],
   "source": [
    "clf_w2v = Pipeline([('vec', MeanEmbeddingVectorizer(w2v)),('clf', RandomForestClassifier(n_estimators=1000))])"
   ],
   "metadata": {
    "collapsed": false,
    "pycharm": {
     "name": "#%%\n"
    }
   }
  },
  {
   "cell_type": "code",
   "execution_count": 71,
   "outputs": [],
   "source": [
    "clf_w2v.fit(X_train,y_train)\n",
    "pred = clf_w2v.predict(X_test)"
   ],
   "metadata": {
    "collapsed": false,
    "pycharm": {
     "name": "#%%\n"
    }
   }
  },
  {
   "cell_type": "code",
   "execution_count": 72,
   "outputs": [
    {
     "name": "stdout",
     "output_type": "stream",
     "text": [
      "Precision:   0.80\n",
      "Recall:   0.72\n",
      "F1-measure:   0.74\n",
      "Accuracy:   0.74\n",
      "               precision    recall  f1-score   support\n",
      "\n",
      "     business       0.66      0.84      0.74        76\n",
      "entertainment       0.88      0.64      0.74        58\n",
      "     politics       0.80      0.68      0.74        63\n",
      "        sport       0.66      0.90      0.76        77\n",
      "         tech       1.00      0.55      0.71        51\n",
      "\n",
      "     accuracy                           0.74       325\n",
      "    macro avg       0.80      0.72      0.74       325\n",
      " weighted avg       0.78      0.74      0.74       325\n",
      "\n"
     ]
    },
    {
     "data": {
      "text/plain": "<Figure size 640x480 with 1 Axes>",
      "image/png": "[encoded data removed]"
     },
     "metadata": {},
     "output_type": "display_data"
    }
   ],
   "source": [
    "print(\"Precision: {0:6.2f}\".format(precision_score(y_test, pred, average='macro')))\n",
    "print(\"Recall: {0:6.2f}\".format(recall_score(y_test, pred, average='macro')))\n",
    "print(\"F1-measure: {0:6.2f}\".format(f1_score(y_test, pred, average='macro')))\n",
    "print(\"Accuracy: {0:6.2f}\".format(accuracy_score(y_test, pred)))\n",
    "\n",
    "print(classification_report(y_test, pred))\n",
    "\n",
    "labels = clf_w2v.classes_\n",
    "\n",
    "sns.heatmap(data=confusion_matrix(y_test, pred), annot=True, fmt=\"d\", cbar=False, xticklabels=labels, yticklabels=labels)\n",
    "plt.title(\"Confusion matrix\")\n",
    "plt.show()"
   ],
   "metadata": {
    "collapsed": false,
    "pycharm": {
     "name": "#%%\n"
    }
   }
  },
  {
   "cell_type": "code",
   "execution_count": 73,
   "outputs": [
    {
     "name": "stdout",
     "output_type": "stream",
     "text": [
      "Precision:   0.81\n",
      "Recall:   0.76\n",
      "F1-measure:   0.77\n",
      "Accuracy:   0.78\n",
      "               precision    recall  f1-score   support\n",
      "\n",
      "     business       0.73      0.96      0.83        77\n",
      "entertainment       0.77      0.59      0.67        58\n",
      "     politics       0.89      0.63      0.74        62\n",
      "        sport       0.72      0.90      0.80        77\n",
      "         tech       0.92      0.71      0.80        51\n",
      "\n",
      "     accuracy                           0.78       325\n",
      "    macro avg       0.81      0.76      0.77       325\n",
      " weighted avg       0.79      0.78      0.77       325\n",
      "\n"
     ]
    },
    {
     "data": {
      "text/plain": "<Figure size 640x480 with 1 Axes>",
      "image/png": "[encoded data removed]"
     },
     "metadata": {},
     "output_type": "display_data"
    }
   ],
   "source": [
    "#проверка на инференсе\n",
    "pred_valid=clf_w2v.predict(X_valid)\n",
    "\n",
    "print(\"Precision: {0:6.2f}\".format(precision_score(y_valid, pred_valid, average='macro')))\n",
    "print(\"Recall: {0:6.2f}\".format(recall_score(y_valid, pred_valid, average='macro')))\n",
    "print(\"F1-measure: {0:6.2f}\".format(f1_score(y_valid, pred_valid, average='macro')))\n",
    "print(\"Accuracy: {0:6.2f}\".format(accuracy_score(y_valid, pred_valid)))\n",
    "\n",
    "print(classification_report(y_valid, pred_valid))\n",
    "\n",
    "labels = clf_w2v.classes_\n",
    "\n",
    "sns.heatmap(data=confusion_matrix(y_test, pred), annot=True, fmt=\"d\", cbar=False, xticklabels=labels, yticklabels=labels)\n",
    "plt.title(\"Confusion matrix\")\n",
    "plt.show()"
   ],
   "metadata": {
    "collapsed": false,
    "pycharm": {
     "name": "#%%\n"
    }
   }
  },
  {
   "cell_type": "markdown",
   "source": [
    "# Часть 2. Модель DistillBERT"
   ],
   "metadata": {
    "collapsed": false,
    "pycharm": {
     "name": "#%% md\n"
    }
   }
  },
  {
   "cell_type": "code",
   "execution_count": 52,
   "outputs": [],
   "source": [
    "data=get_dataset(DATA_DIR)\n",
    "data=pd.DataFrame(data, columns=['text', 'label'])"
   ],
   "metadata": {
    "collapsed": false,
    "pycharm": {
     "name": "#%%\n"
    }
   }
  },
  {
   "cell_type": "code",
   "execution_count": 34,
   "outputs": [],
   "source": [
    "id2label=dict({i: val for i, val in enumerate(labels)})\n",
    "label2id=dict({val: i for i, val in enumerate(labels)})"
   ],
   "metadata": {
    "collapsed": false,
    "pycharm": {
     "name": "#%%\n"
    }
   }
  },
  {
   "cell_type": "code",
   "execution_count": 50,
   "outputs": [
    {
     "name": "stderr",
     "output_type": "stream",
     "text": [
      "loading file vocab.txt from cache at C:\\Users\\Helen/.cache\\huggingface\\hub\\models--distilbert-base-uncased\\snapshots\\043235d6088ecd3dd5fb5ca3592b6913fd516027\\vocab.txt\n",
      "loading file tokenizer.json from cache at C:\\Users\\Helen/.cache\\huggingface\\hub\\models--distilbert-base-uncased\\snapshots\\043235d6088ecd3dd5fb5ca3592b6913fd516027\\tokenizer.json\n",
      "loading file added_tokens.json from cache at None\n",
      "loading file special_tokens_map.json from cache at None\n",
      "loading file tokenizer_config.json from cache at C:\\Users\\Helen/.cache\\huggingface\\hub\\models--distilbert-base-uncased\\snapshots\\043235d6088ecd3dd5fb5ca3592b6913fd516027\\tokenizer_config.json\n",
      "loading configuration file config.json from cache at C:\\Users\\Helen/.cache\\huggingface\\hub\\models--distilbert-base-uncased\\snapshots\\043235d6088ecd3dd5fb5ca3592b6913fd516027\\config.json\n",
      "Model config DistilBertConfig {\n",
      "  \"_name_or_path\": \"distilbert-base-uncased\",\n",
      "  \"activation\": \"gelu\",\n",
      "  \"architectures\": [\n",
      "    \"DistilBertForMaskedLM\"\n",
      "  ],\n",
      "  \"attention_dropout\": 0.1,\n",
      "  \"dim\": 768,\n",
      "  \"dropout\": 0.1,\n",
      "  \"hidden_dim\": 3072,\n",
      "  \"initializer_range\": 0.02,\n",
      "  \"max_position_embeddings\": 512,\n",
      "  \"model_type\": \"distilbert\",\n",
      "  \"n_heads\": 12,\n",
      "  \"n_layers\": 6,\n",
      "  \"pad_token_id\": 0,\n",
      "  \"qa_dropout\": 0.1,\n",
      "  \"seq_classif_dropout\": 0.2,\n",
      "  \"sinusoidal_pos_embds\": false,\n",
      "  \"tie_weights_\": true,\n",
      "  \"transformers_version\": \"4.22.2\",\n",
      "  \"vocab_size\": 30522\n",
      "}\n",
      "\n",
      "loading configuration file config.json from cache at C:\\Users\\Helen/.cache\\huggingface\\hub\\models--distilbert-base-uncased\\snapshots\\043235d6088ecd3dd5fb5ca3592b6913fd516027\\config.json\n",
      "Model config DistilBertConfig {\n",
      "  \"activation\": \"gelu\",\n",
      "  \"architectures\": [\n",
      "    \"DistilBertForMaskedLM\"\n",
      "  ],\n",
      "  \"attention_dropout\": 0.1,\n",
      "  \"dim\": 768,\n",
      "  \"dropout\": 0.1,\n",
      "  \"hidden_dim\": 3072,\n",
      "  \"id2label\": {\n",
      "    \"0\": \"sport\",\n",
      "    \"1\": \"business\",\n",
      "    \"2\": \"politics\",\n",
      "    \"3\": \"entertainment\",\n",
      "    \"4\": \"tech\"\n",
      "  },\n",
      "  \"initializer_range\": 0.02,\n",
      "  \"label2id\": {\n",
      "    \"business\": 1,\n",
      "    \"entertainment\": 3,\n",
      "    \"politics\": 2,\n",
      "    \"sport\": 0,\n",
      "    \"tech\": 4\n",
      "  },\n",
      "  \"max_position_embeddings\": 512,\n",
      "  \"model_type\": \"distilbert\",\n",
      "  \"n_heads\": 12,\n",
      "  \"n_layers\": 6,\n",
      "  \"pad_token_id\": 0,\n",
      "  \"qa_dropout\": 0.1,\n",
      "  \"seq_classif_dropout\": 0.2,\n",
      "  \"sinusoidal_pos_embds\": false,\n",
      "  \"tie_weights_\": true,\n",
      "  \"transformers_version\": \"4.22.2\",\n",
      "  \"vocab_size\": 30522\n",
      "}\n",
      "\n",
      "loading weights file pytorch_model.bin from cache at C:\\Users\\Helen/.cache\\huggingface\\hub\\models--distilbert-base-uncased\\snapshots\\043235d6088ecd3dd5fb5ca3592b6913fd516027\\pytorch_model.bin\n",
      "Some weights of the model checkpoint at distilbert-base-uncased were not used when initializing DistilBertForSequenceClassification: ['vocab_projector.bias', 'vocab_transform.weight', 'vocab_layer_norm.weight', 'vocab_layer_norm.bias', 'vocab_projector.weight', 'vocab_transform.bias']\n",
      "- This IS expected if you are initializing DistilBertForSequenceClassification from the checkpoint of a model trained on another task or with another architecture (e.g. initializing a BertForSequenceClassification model from a BertForPreTraining model).\n",
      "- This IS NOT expected if you are initializing DistilBertForSequenceClassification from the checkpoint of a model that you expect to be exactly identical (initializing a BertForSequenceClassification model from a BertForSequenceClassification model).\n",
      "Some weights of DistilBertForSequenceClassification were not initialized from the model checkpoint at distilbert-base-uncased and are newly initialized: ['classifier.bias', 'classifier.weight', 'pre_classifier.bias', 'pre_classifier.weight']\n",
      "You should probably TRAIN this model on a down-stream task to be able to use it for predictions and inference.\n"
     ]
    }
   ],
   "source": [
    "from transformers import DistilBertTokenizerFast, DistilBertForSequenceClassification\n",
    "model_path_or_name = \"distilbert-base-uncased\"\n",
    "tokenizer = DistilBertTokenizerFast.from_pretrained(model_path_or_name)\n",
    "model = DistilBertForSequenceClassification.from_pretrained(model_path_or_name, num_labels=5, id2label=id2label, label2id=label2id)\n",
    "\n"
   ],
   "metadata": {
    "collapsed": false,
    "pycharm": {
     "name": "#%%\n"
    }
   }
  },
  {
   "cell_type": "code",
   "execution_count": 53,
   "outputs": [],
   "source": [
    "data['label'] = data['label'].apply(lambda x: label2id[x])"
   ],
   "metadata": {
    "collapsed": false,
    "pycharm": {
     "name": "#%%\n"
    }
   }
  },
  {
   "cell_type": "code",
   "execution_count": 54,
   "outputs": [
    {
     "data": {
      "text/plain": "                                                text  label\n0  Ad sales boost Time Warner profit  Quarterly p...      1\n1  Dollar gains on Greenspan speech  The dollar h...      1\n2  Yukos unit buyer faces loan claim  The owners ...      1\n3  High fuel prices hit BA's profits  British Air...      1\n4  Pernod takeover talk lifts Domecq  Shares in U...      1",
      "text/html": "<div>\n<style scoped>\n    .dataframe tbody tr th:only-of-type {\n        vertical-align: middle;\n    }\n\n    .dataframe tbody tr th {\n        vertical-align: top;\n    }\n\n    .dataframe thead th {\n        text-align: right;\n    }\n</style>\n<table border=\"1\" class=\"dataframe\">\n  <thead>\n    <tr style=\"text-align: right;\">\n      <th></th>\n      <th>text</th>\n      <th>label</th>\n    </tr>\n  </thead>\n  <tbody>\n    <tr>\n      <th>0</th>\n      <td>Ad sales boost Time Warner profit  Quarterly p...</td>\n      <td>1</td>\n    </tr>\n    <tr>\n      <th>1</th>\n      <td>Dollar gains on Greenspan speech  The dollar h...</td>\n      <td>1</td>\n    </tr>\n    <tr>\n      <th>2</th>\n      <td>Yukos unit buyer faces loan claim  The owners ...</td>\n      <td>1</td>\n    </tr>\n    <tr>\n      <th>3</th>\n      <td>High fuel prices hit BA's profits  British Air...</td>\n      <td>1</td>\n    </tr>\n    <tr>\n      <th>4</th>\n      <td>Pernod takeover talk lifts Domecq  Shares in U...</td>\n      <td>1</td>\n    </tr>\n  </tbody>\n</table>\n</div>"
     },
     "execution_count": 54,
     "metadata": {},
     "output_type": "execute_result"
    }
   ],
   "source": [
    "data.head()"
   ],
   "metadata": {
    "collapsed": false,
    "pycharm": {
     "name": "#%%\n"
    }
   }
  },
  {
   "cell_type": "code",
   "execution_count": 55,
   "outputs": [],
   "source": [
    "#разобьем данные на трейн, тест и валидацию и сохраним их в отдельных csv файлах\n",
    "\n",
    "data_train, data_rem = train_test_split(data, train_size=0.7, shuffle=True, stratify=data['label'])\n",
    "\n",
    "data_test, data_val=train_test_split(data_rem, test_size=0.5, shuffle=True, stratify=data_rem['label'] )\n",
    "\n",
    "#сохраним данные в csv файле чтобы далее использовать в load_datasets\n",
    "data_train.to_csv(\"../data/bbc_outputs/bbc_train.csv\", index=False, encoding='utf-8')\n",
    "data_test.to_csv(\"../data/bbc_outputs/bbc_test.csv\", index=False, encoding='utf-8')\n",
    "data_val.to_csv(\"../data/bbc_outputs/bbc_val.csv\", index=False, encoding='utf-8')"
   ],
   "metadata": {
    "collapsed": false,
    "pycharm": {
     "name": "#%%\n"
    }
   }
  },
  {
   "cell_type": "code",
   "execution_count": 56,
   "outputs": [
    {
     "name": "stderr",
     "output_type": "stream",
     "text": [
      "Using custom data configuration default-af4698ec5cb28a16\n"
     ]
    },
    {
     "name": "stdout",
     "output_type": "stream",
     "text": [
      "Downloading and preparing dataset csv/default to C:/Users/Helen/.cache/huggingface/datasets/csv/default-af4698ec5cb28a16/0.0.0/652c3096f041ee27b04d2232d41f10547a8fecda3e284a79a0ec4053c916ef7a...\n"
     ]
    },
    {
     "data": {
      "text/plain": "Downloading data files:   0%|          | 0/3 [00:00<?, ?it/s]",
      "application/vnd.jupyter.widget-view+json": {
       "version_major": 2,
       "version_minor": 0,
       "model_id": "c4ac45cc5af24d10954ad904640a3597"
      }
     },
     "metadata": {},
     "output_type": "display_data"
    },
    {
     "data": {
      "text/plain": "Extracting data files:   0%|          | 0/3 [00:00<?, ?it/s]",
      "application/vnd.jupyter.widget-view+json": {
       "version_major": 2,
       "version_minor": 0,
       "model_id": "9339e2f4c1ef474ea188556d72519eec"
      }
     },
     "metadata": {},
     "output_type": "display_data"
    },
    {
     "data": {
      "text/plain": "0 tables [00:00, ? tables/s]",
      "application/vnd.jupyter.widget-view+json": {
       "version_major": 2,
       "version_minor": 0,
       "model_id": "c91d175ec68f4ccaa1d73d47b91170ff"
      }
     },
     "metadata": {},
     "output_type": "display_data"
    },
    {
     "data": {
      "text/plain": "0 tables [00:00, ? tables/s]",
      "application/vnd.jupyter.widget-view+json": {
       "version_major": 2,
       "version_minor": 0,
       "model_id": "c0060710ee4a467ab1ae670e250c9e88"
      }
     },
     "metadata": {},
     "output_type": "display_data"
    },
    {
     "data": {
      "text/plain": "0 tables [00:00, ? tables/s]",
      "application/vnd.jupyter.widget-view+json": {
       "version_major": 2,
       "version_minor": 0,
       "model_id": "83d4a505d9b7445c9a275fd2c6c9b3c2"
      }
     },
     "metadata": {},
     "output_type": "display_data"
    },
    {
     "name": "stdout",
     "output_type": "stream",
     "text": [
      "Dataset csv downloaded and prepared to C:/Users/Helen/.cache/huggingface/datasets/csv/default-af4698ec5cb28a16/0.0.0/652c3096f041ee27b04d2232d41f10547a8fecda3e284a79a0ec4053c916ef7a. Subsequent calls will reuse this data.\n"
     ]
    },
    {
     "data": {
      "text/plain": "  0%|          | 0/3 [00:00<?, ?it/s]",
      "application/vnd.jupyter.widget-view+json": {
       "version_major": 2,
       "version_minor": 0,
       "model_id": "9cbee345f95747d1901ba54022c8fce5"
      }
     },
     "metadata": {},
     "output_type": "display_data"
    }
   ],
   "source": [
    "from datasets import load_dataset\n",
    "bbc_data=load_dataset('csv', data_files={'train':['../data/bbc_outputs/bbc_train.csv'],\n",
    "        'test':['../data/bbc_outputs/bbc_test.csv'], 'val':['../data/bbc_outputs/bbc_val.csv']})"
   ],
   "metadata": {
    "collapsed": false,
    "pycharm": {
     "name": "#%%\n"
    }
   }
  },
  {
   "cell_type": "code",
   "execution_count": 57,
   "outputs": [],
   "source": [
    "bbc_test=bbc_data['test']\n",
    "bbc_train=bbc_data['train']\n",
    "bbc_val=bbc_data['val']"
   ],
   "metadata": {
    "collapsed": false,
    "pycharm": {
     "name": "#%%\n"
    }
   }
  },
  {
   "cell_type": "code",
   "execution_count": 58,
   "outputs": [
    {
     "data": {
      "text/plain": "  0%|          | 0/16 [00:00<?, ?ba/s]",
      "application/vnd.jupyter.widget-view+json": {
       "version_major": 2,
       "version_minor": 0,
       "model_id": "a4d7a26f81a04a08a9b034d964fc5a3a"
      }
     },
     "metadata": {},
     "output_type": "display_data"
    },
    {
     "data": {
      "text/plain": "  0%|          | 0/4 [00:00<?, ?ba/s]",
      "application/vnd.jupyter.widget-view+json": {
       "version_major": 2,
       "version_minor": 0,
       "model_id": "7e4c107711424939a92b35dcb654066b"
      }
     },
     "metadata": {},
     "output_type": "display_data"
    },
    {
     "data": {
      "text/plain": "  0%|          | 0/4 [00:00<?, ?ba/s]",
      "application/vnd.jupyter.widget-view+json": {
       "version_major": 2,
       "version_minor": 0,
       "model_id": "2d50ab40a3174a33aff56886370245c2"
      }
     },
     "metadata": {},
     "output_type": "display_data"
    }
   ],
   "source": [
    "enc_train = bbc_train.map(lambda e: tokenizer( e['text'], padding=True, truncation=True, max_length=512),batched=True, batch_size=100)\n",
    "enc_test =  bbc_test.map(lambda e: tokenizer( e['text'], padding=True, truncation=True, max_length=512),batched=True, batch_size=100)\n",
    "enc_val =   bbc_val.map(lambda e: tokenizer( e['text'], padding=True, truncation=True, max_length=512),batched=True, batch_size=100)"
   ],
   "metadata": {
    "collapsed": false,
    "pycharm": {
     "name": "#%%\n"
    }
   }
  },
  {
   "cell_type": "code",
   "execution_count": 59,
   "outputs": [
    {
     "name": "stderr",
     "output_type": "stream",
     "text": [
      "using `logging_steps` to initialize `eval_steps` to 200\n",
      "PyTorch: setting up devices\n",
      "The default value for the training argument `--report_to` will change in v5 (from all installed integrations to none). In v5, you will need to use `--report_to all` to get the same behavior as now. You should start updating your code and make this info disappear :-).\n"
     ]
    }
   ],
   "source": [
    "from transformers import TrainingArguments, Trainer\n",
    "import torch\n",
    "training_args = TrainingArguments(\n",
    "    output_dir='../data/bbc_outputs/MyBBCModel',\n",
    "    do_train=True,\n",
    "    do_eval=True,\n",
    "    num_train_epochs=3,\n",
    "    per_device_train_batch_size=32,\n",
    "    per_device_eval_batch_size=64,\n",
    "    warmup_steps=100,\n",
    "    weight_decay=0.01,\n",
    "    logging_strategy='steps',\n",
    "    logging_dir='../data/bbc_outputs/logs',\n",
    "    logging_steps=200,\n",
    "    evaluation_strategy= 'steps',\n",
    "    fp16= torch.cuda.is_available()\n",
    ")"
   ],
   "metadata": {
    "collapsed": false,
    "pycharm": {
     "name": "#%%\n"
    }
   }
  },
  {
   "cell_type": "code",
   "execution_count": 103,
   "outputs": [],
   "source": [
    "from sklearn.metrics import accuracy_score, precision_recall_fscore_support\n",
    "\n",
    "def compute_metrics(pred):\n",
    "    labels = pred.label_ids\n",
    "    preds = pred.predictions.argmax(-1)\n",
    "    Precision, Recall, f1, _ = precision_recall_fscore_support(labels, preds, average='macro')\n",
    "    acc = accuracy_score(labels, preds)\n",
    "    return {\n",
    "        'Accuracy': acc,\n",
    "        'F1': f1,\n",
    "        'Precision': Precision,\n",
    "        'Recall': Recall\n",
    "    }\n",
    "\n",
    "def compute_metrics_per_label(pred):\n",
    "    labels=pred.label_ids\n",
    "    preds=pred.predictions.argmax(-1)\n",
    "\n",
    "    acc_wall=[]\n",
    "    f1_wall=[]\n",
    "    prec_wall=[]\n",
    "    recall_wall=[]\n",
    "\n",
    "    for label in np.unique(labels):\n",
    "        y_preds = preds[labels==label]\n",
    "        y_true = labels[labels==label]\n",
    "        y_preds[y_preds!=label]=0 #маска для значений, не равных label\n",
    "        acc_wall.append(accuracy_score(y_true, y_preds))\n",
    "        f1_wall.append(f1_score(y_true, y_preds, average=\"binary\", pos_label=label))\n",
    "        prec_wall.append(precision_score(y_true, y_preds, average=\"binary\", pos_label=label))\n",
    "        recall_wall.append(recall_score(y_true, y_preds, average=\"binary\", pos_label=label))\n",
    "    return {\n",
    "        'Accuracy': acc_wall,\n",
    "        'F1': f1_wall,\n",
    "        'Precision': prec_wall,\n",
    "        'Recall': recall_wall\n",
    "    }\n"
   ],
   "metadata": {
    "collapsed": false,
    "pycharm": {
     "name": "#%%\n"
    }
   }
  },
  {
   "cell_type": "code",
   "execution_count": 64,
   "outputs": [],
   "source": [
    "trainer = Trainer(\n",
    "    model=model,\n",
    "    args=training_args,\n",
    "    train_dataset=enc_train,\n",
    "    eval_dataset=enc_val,\n",
    "    compute_metrics= compute_metrics\n",
    ")"
   ],
   "metadata": {
    "collapsed": false,
    "pycharm": {
     "name": "#%%\n"
    }
   }
  },
  {
   "cell_type": "code",
   "execution_count": 65,
   "outputs": [
    {
     "name": "stderr",
     "output_type": "stream",
     "text": [
      "The following columns in the training set don't have a corresponding argument in `DistilBertForSequenceClassification.forward` and have been ignored: text. If text are not expected by `DistilBertForSequenceClassification.forward`,  you can safely ignore this message.\n",
      "***** Running training *****\n",
      "  Num examples = 1515\n",
      "  Num Epochs = 3\n",
      "  Instantaneous batch size per device = 32\n",
      "  Total train batch size (w. parallel, distributed & accumulation) = 32\n",
      "  Gradient Accumulation steps = 1\n",
      "  Total optimization steps = 144\n"
     ]
    },
    {
     "data": {
      "text/plain": "<IPython.core.display.HTML object>",
      "text/html": "\n    <div>\n      \n      <progress value='2' max='144' style='width:300px; height:20px; vertical-align: middle;'></progress>\n      [  2/144 : < :, Epoch 0.02/3]\n    </div>\n    <table border=\"1\" class=\"dataframe\">\n  <thead>\n <tr style=\"text-align: left;\">\n      <th>Step</th>\n      <th>Training Loss</th>\n      <th>Validation Loss</th>\n    </tr>\n  </thead>\n  <tbody>\n  </tbody>\n</table><p>"
     },
     "metadata": {},
     "output_type": "display_data"
    },
    {
     "name": "stderr",
     "output_type": "stream",
     "text": [
      "\n",
      "\n",
      "Training completed. Do not forget to share your model on huggingface.co/models =)\n",
      "\n",
      "\n"
     ]
    }
   ],
   "source": [
    "results=trainer.train()"
   ],
   "metadata": {
    "collapsed": false,
    "pycharm": {
     "name": "#%%\n"
    }
   }
  },
  {
   "cell_type": "code",
   "execution_count": 66,
   "outputs": [
    {
     "name": "stderr",
     "output_type": "stream",
     "text": [
      "Saving model checkpoint to ../data/bbc_outputs/MyBBCModel\n",
      "Configuration saved in ../data/bbc_outputs/MyBBCModel\\config.json\n",
      "Model weights saved in ../data/bbc_outputs/MyBBCModel\\pytorch_model.bin\n",
      "tokenizer config file saved in ../data/bbc_outputs/MyBBCModel\\tokenizer_config.json\n",
      "Special tokens file saved in ../data/bbc_outputs/MyBBCModel\\special_tokens_map.json\n"
     ]
    },
    {
     "data": {
      "text/plain": "('../data/bbc_outputs/MyBBCModel\\\\tokenizer_config.json',\n '../data/bbc_outputs/MyBBCModel\\\\special_tokens_map.json',\n '../data/bbc_outputs/MyBBCModel\\\\vocab.txt',\n '../data/bbc_outputs/MyBBCModel\\\\added_tokens.json',\n '../data/bbc_outputs/MyBBCModel\\\\tokenizer.json')"
     },
     "execution_count": 66,
     "metadata": {},
     "output_type": "execute_result"
    }
   ],
   "source": [
    "model_save_path = \"../data/bbc_outputs/MyBBCModel\"\n",
    "trainer.save_model(model_save_path)\n",
    "tokenizer.save_pretrained(model_save_path)"
   ],
   "metadata": {
    "collapsed": false,
    "pycharm": {
     "name": "#%%\n"
    }
   }
  },
  {
   "cell_type": "code",
   "execution_count": null,
   "outputs": [],
   "source": [
    "#метрики по всем множествам\n",
    "q=[trainer.evaluate(eval_dataset=data) for data in [enc_train, enc_val, enc_test]]\n",
    "pd.DataFrame(q, index=labels).iloc[:,:5]"
   ],
   "metadata": {
    "collapsed": false,
    "pycharm": {
     "name": "#%%\n",
     "is_executing": true
    }
   }
  },
  {
   "cell_type": "code",
   "execution_count": 70,
   "outputs": [
    {
     "data": {
      "text/plain": "       eval_loss  eval_Accuracy   eval_F1  eval_Precision  eval_Recall\ntrain   0.042930       0.991419  0.991494        0.991229     0.991859\nval     0.041288       0.990769  0.990959        0.990000     0.992139\ntest    0.041636       0.990769  0.991302        0.990769     0.992208",
      "text/html": "<div>\n<style scoped>\n    .dataframe tbody tr th:only-of-type {\n        vertical-align: middle;\n    }\n\n    .dataframe tbody tr th {\n        vertical-align: top;\n    }\n\n    .dataframe thead th {\n        text-align: right;\n    }\n</style>\n<table border=\"1\" class=\"dataframe\">\n  <thead>\n    <tr style=\"text-align: right;\">\n      <th></th>\n      <th>eval_loss</th>\n      <th>eval_Accuracy</th>\n      <th>eval_F1</th>\n      <th>eval_Precision</th>\n      <th>eval_Recall</th>\n    </tr>\n  </thead>\n  <tbody>\n    <tr>\n      <th>train</th>\n      <td>0.042930</td>\n      <td>0.991419</td>\n      <td>0.991494</td>\n      <td>0.991229</td>\n      <td>0.991859</td>\n    </tr>\n    <tr>\n      <th>val</th>\n      <td>0.041288</td>\n      <td>0.990769</td>\n      <td>0.990959</td>\n      <td>0.990000</td>\n      <td>0.992139</td>\n    </tr>\n    <tr>\n      <th>test</th>\n      <td>0.041636</td>\n      <td>0.990769</td>\n      <td>0.991302</td>\n      <td>0.990769</td>\n      <td>0.992208</td>\n    </tr>\n  </tbody>\n</table>\n</div>"
     },
     "execution_count": 70,
     "metadata": {},
     "output_type": "execute_result"
    }
   ],
   "source": [
    "pd.DataFrame(q, index=[\"train\",\"val\",\"test\"]).iloc[:,:5]"
   ],
   "metadata": {
    "collapsed": false,
    "pycharm": {
     "name": "#%%\n"
    }
   }
  },
  {
   "cell_type": "code",
   "execution_count": 105,
   "outputs": [
    {
     "name": "stderr",
     "output_type": "stream",
     "text": [
      "The following columns in the test set don't have a corresponding argument in `DistilBertForSequenceClassification.forward` and have been ignored: text. If text are not expected by `DistilBertForSequenceClassification.forward`,  you can safely ignore this message.\n",
      "***** Running Prediction *****\n",
      "  Num examples = 325\n",
      "  Batch size = 64\n"
     ]
    },
    {
     "data": {
      "text/plain": "<IPython.core.display.HTML object>",
      "text/html": "\n    <div>\n      \n      <progress value='1' max='6' style='width:300px; height:20px; vertical-align: middle;'></progress>\n      [1/6 : < :]\n    </div>\n    "
     },
     "metadata": {},
     "output_type": "display_data"
    },
    {
     "data": {
      "text/plain": "               Accuracy        F1  Precision    Recall\nsport          1.000000  1.000000        1.0  1.000000\nbusiness       0.961039  0.980132        1.0  0.961039\npolitics       1.000000  1.000000        1.0  1.000000\nentertainment  1.000000  1.000000        1.0  1.000000\ntech           1.000000  1.000000        1.0  1.000000",
      "text/html": "<div>\n<style scoped>\n    .dataframe tbody tr th:only-of-type {\n        vertical-align: middle;\n    }\n\n    .dataframe tbody tr th {\n        vertical-align: top;\n    }\n\n    .dataframe thead th {\n        text-align: right;\n    }\n</style>\n<table border=\"1\" class=\"dataframe\">\n  <thead>\n    <tr style=\"text-align: right;\">\n      <th></th>\n      <th>Accuracy</th>\n      <th>F1</th>\n      <th>Precision</th>\n      <th>Recall</th>\n    </tr>\n  </thead>\n  <tbody>\n    <tr>\n      <th>sport</th>\n      <td>1.000000</td>\n      <td>1.000000</td>\n      <td>1.0</td>\n      <td>1.000000</td>\n    </tr>\n    <tr>\n      <th>business</th>\n      <td>0.961039</td>\n      <td>0.980132</td>\n      <td>1.0</td>\n      <td>0.961039</td>\n    </tr>\n    <tr>\n      <th>politics</th>\n      <td>1.000000</td>\n      <td>1.000000</td>\n      <td>1.0</td>\n      <td>1.000000</td>\n    </tr>\n    <tr>\n      <th>entertainment</th>\n      <td>1.000000</td>\n      <td>1.000000</td>\n      <td>1.0</td>\n      <td>1.000000</td>\n    </tr>\n    <tr>\n      <th>tech</th>\n      <td>1.000000</td>\n      <td>1.000000</td>\n      <td>1.0</td>\n      <td>1.000000</td>\n    </tr>\n  </tbody>\n</table>\n</div>"
     },
     "execution_count": 105,
     "metadata": {},
     "output_type": "execute_result"
    }
   ],
   "source": [
    "#проверка на тесте по классу\n",
    "pred = trainer.predict(enc_test)\n",
    "q=compute_metrics_per_label(pred)\n",
    "pd.DataFrame(q, index=labels).iloc[:,:5]"
   ],
   "metadata": {
    "collapsed": false,
    "pycharm": {
     "name": "#%%\n"
    }
   }
  },
  {
   "cell_type": "code",
   "execution_count": 104,
   "outputs": [
    {
     "name": "stderr",
     "output_type": "stream",
     "text": [
      "The following columns in the test set don't have a corresponding argument in `DistilBertForSequenceClassification.forward` and have been ignored: text. If text are not expected by `DistilBertForSequenceClassification.forward`,  you can safely ignore this message.\n",
      "***** Running Prediction *****\n",
      "  Num examples = 325\n",
      "  Batch size = 64\n"
     ]
    },
    {
     "data": {
      "text/plain": "<IPython.core.display.HTML object>",
      "text/html": "\n    <div>\n      \n      <progress value='1' max='6' style='width:300px; height:20px; vertical-align: middle;'></progress>\n      [1/6 : < :]\n    </div>\n    "
     },
     "metadata": {},
     "output_type": "display_data"
    },
    {
     "data": {
      "text/plain": "               Accuracy        F1  Precision    Recall\nsport          1.000000  1.000000        1.0  1.000000\nbusiness       0.973684  0.986667        1.0  0.973684\npolitics       1.000000  1.000000        1.0  1.000000\nentertainment  1.000000  1.000000        1.0  1.000000\ntech           1.000000  1.000000        1.0  1.000000",
      "text/html": "<div>\n<style scoped>\n    .dataframe tbody tr th:only-of-type {\n        vertical-align: middle;\n    }\n\n    .dataframe tbody tr th {\n        vertical-align: top;\n    }\n\n    .dataframe thead th {\n        text-align: right;\n    }\n</style>\n<table border=\"1\" class=\"dataframe\">\n  <thead>\n    <tr style=\"text-align: right;\">\n      <th></th>\n      <th>Accuracy</th>\n      <th>F1</th>\n      <th>Precision</th>\n      <th>Recall</th>\n    </tr>\n  </thead>\n  <tbody>\n    <tr>\n      <th>sport</th>\n      <td>1.000000</td>\n      <td>1.000000</td>\n      <td>1.0</td>\n      <td>1.000000</td>\n    </tr>\n    <tr>\n      <th>business</th>\n      <td>0.973684</td>\n      <td>0.986667</td>\n      <td>1.0</td>\n      <td>0.973684</td>\n    </tr>\n    <tr>\n      <th>politics</th>\n      <td>1.000000</td>\n      <td>1.000000</td>\n      <td>1.0</td>\n      <td>1.000000</td>\n    </tr>\n    <tr>\n      <th>entertainment</th>\n      <td>1.000000</td>\n      <td>1.000000</td>\n      <td>1.0</td>\n      <td>1.000000</td>\n    </tr>\n    <tr>\n      <th>tech</th>\n      <td>1.000000</td>\n      <td>1.000000</td>\n      <td>1.0</td>\n      <td>1.000000</td>\n    </tr>\n  </tbody>\n</table>\n</div>"
     },
     "execution_count": 104,
     "metadata": {},
     "output_type": "execute_result"
    }
   ],
   "source": [
    "#проверка на инференсе по классу\n",
    "pred = trainer.predict(enc_val)\n",
    "q=compute_metrics_per_label(pred)\n",
    "pd.DataFrame(q, index=labels).iloc[:,:5]"
   ],
   "metadata": {
    "collapsed": false,
    "pycharm": {
     "name": "#%%\n"
    }
   }
  },
  {
   "cell_type": "code",
   "execution_count": 106,
   "outputs": [],
   "source": [
    "#возьмем текст с политики\n",
    "text=\"\"\"Tony Blair lied when he took the UK to war so has no qualms about lying in the election campaign, say the Tories.\n",
    "\n",
    "Tory co-chairman Liam Fox was speaking after Mr Blair told Labour members the Tories offered a \"hard right agenda\". Dr Fox told BBC Radio: \"If you are willing to lie about the reasons for going to war, I guess you are going to lie about anything at all.\" He would not discuss reports the party repaid £500,000 to Lord Ashcroft after he predicted an election defeat.\n",
    "\n",
    "The prime minister ratcheted up Labour's pre-election campaigning at the weekend with a helicopter tour of the country and his speech at the party's spring conference. He insisted he did not know the poll date, but it is widely expected to be 5 May\"\"\""
   ],
   "metadata": {
    "collapsed": false,
    "pycharm": {
     "name": "#%%\n"
    }
   }
  },
  {
   "cell_type": "code",
   "execution_count": 107,
   "outputs": [],
   "source": [
    "def predict(text):\n",
    "    inputs = tokenizer(text, padding=True, truncation=True, max_length=512, return_tensors=\"pt\")\n",
    "    outputs = model(**inputs)\n",
    "    probs = outputs.logits.softmax(1)\n",
    "    return probs, probs.argmax(-1), model.config.id2label[probs.argmax(-1).item()]"
   ],
   "metadata": {
    "collapsed": false,
    "pycharm": {
     "name": "#%%\n"
    }
   }
  },
  {
   "cell_type": "code",
   "execution_count": 108,
   "outputs": [
    {
     "data": {
      "text/plain": "(tensor([[0.0020, 0.0028, 0.9909, 0.0021, 0.0021]], grad_fn=<SoftmaxBackward0>),\n tensor([2]),\n 'politics')"
     },
     "execution_count": 108,
     "metadata": {},
     "output_type": "execute_result"
    }
   ],
   "source": [
    "predict(text)"
   ],
   "metadata": {
    "collapsed": false,
    "pycharm": {
     "name": "#%%\n"
    }
   }
  },
  {
   "cell_type": "markdown",
   "source": [
    "# Вывод\n",
    "Для данной задачи классификации лучшие метрики по целому корпусу и по каждому отдельному классу оказались у второй модели DistilBert."
   ],
   "metadata": {
    "collapsed": false,
    "pycharm": {
     "name": "#%% md\n"
    }
   }
  },
  {
   "cell_type": "code",
   "execution_count": null,
   "outputs": [],
   "source": [],
   "metadata": {
    "collapsed": false,
    "pycharm": {
     "name": "#%%\n"
    }
   }
  }
 ],
 "metadata": {
  "kernelspec": {
   "display_name": "Python 3",
   "language": "python",
   "name": "python3"
  },
  "language_info": {
   "codemirror_mode": {
    "name": "ipython",
    "version": 2
   },
   "file_extension": ".py",
   "mimetype": "text/x-python",
   "name": "python",
   "nbconvert_exporter": "python",
   "pygments_lexer": "ipython2",
   "version": "2.7.6"
  }
 },
 "nbformat": 4,
 "nbformat_minor": 0
}